{
 "cells": [
  {
   "cell_type": "code",
   "execution_count": null,
   "metadata": {},
   "outputs": [],
   "source": [
    "import os\n",
    "import json\n",
    "from PIL import Image\n",
    "from collections import defaultdict\n",
    "\n",
    "DATA_DIRECTORY = os.getcwd()\n",
    "FLAG_DIRECTORY = os.path.join(DATA_DIRECTORY, \"images/flags\")"
   ]
  },
  {
   "cell_type": "code",
   "execution_count": null,
   "metadata": {},
   "outputs": [],
   "source": [
    "def get_image_colors_by_pixels(filepath):\n",
    "    image = Image.open(filepath).convert('RGB')\n",
    "    by_color = defaultdict(int)\n",
    "    for pixel in image.getdata():\n",
    "        # Ignore white pixels\n",
    "        if pixel[0] == 255 and pixel[1] == 255 and pixel[2] == 255:\n",
    "            continue\n",
    "        by_color[pixel] += 1\n",
    "    sorted_colors = sorted(by_color.items(), key=lambda k_v: k_v[1], reverse=True)\n",
    "    max_color = sorted_colors[0][0]\n",
    "    return max_color, sorted_colors\n",
    "\n",
    "def get_flag_colors(output=True, output_filename=\"iso2_flag_colors.json\"): \n",
    "    all_filenames = os.listdir(FLAG_DIRECTORY)\n",
    "    iso2_dict = {}\n",
    "    for filename in all_filenames:\n",
    "        filepath = os.path.join(flag_directory, filename)\n",
    "        primary_color, sorted_colors = get_image_colors_by_pixels(filepath)\n",
    "        iso2 = filename.split(\".\")[0]\n",
    "        primary_color = '#%02X%02X%02X' % sorted_colors[0][0][0:3] if len(sorted_colors) > 3 else '#%02X%02X%02X' % sorted_colors[0][0]\n",
    "        secondary_color = '' if len(sorted_colors) == 1 else ('#%02X%02X%02X' % sorted_colors[1][0][0:3] if len(sorted_colors) > 3 else '#%02X%02X%02X' % sorted_colors[1][0])\n",
    "        tertiary_color = '#%02X%02X%02X' % sorted_colors[2][0][0:3] if len(sorted_colors) > 2 else ''\n",
    "        iso2_dict[iso2] = [\n",
    "            primary_color,\n",
    "            secondary_color,\n",
    "            tertiary_color,\n",
    "        ]\n",
    "    if output:\n",
    "        output_filepath = os.join(DATA_DIRECTORY, output_filename)\n",
    "        with open(output_filepath, 'w') as f:\n",
    "            json.dump(iso2_dict, f)\n",
    "    return iso2_dict"
   ]
  },
  {
   "cell_type": "code",
   "execution_count": null,
   "metadata": {},
   "outputs": [],
   "source": [
    "get_flag_colors()"
   ]
  }
 ],
 "metadata": {
  "kernelspec": {
   "display_name": "Python 3",
   "language": "python",
   "name": "python3"
  },
  "language_info": {
   "codemirror_mode": {
    "name": "ipython",
    "version": 3
   },
   "file_extension": ".py",
   "mimetype": "text/x-python",
   "name": "python",
   "nbconvert_exporter": "python",
   "pygments_lexer": "ipython3",
   "version": "3.7.7"
  }
 },
 "nbformat": 4,
 "nbformat_minor": 4
}
