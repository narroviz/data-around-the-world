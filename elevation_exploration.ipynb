{
 "cells": [
  {
   "cell_type": "markdown",
   "metadata": {},
   "source": [
    "# Import Packages"
   ]
  },
  {
   "cell_type": "code",
   "execution_count": 1,
   "metadata": {},
   "outputs": [],
   "source": [
    "import os\n",
    "import json\n",
    "import math\n",
    "import boto3\n",
    "import rasterio\n",
    "import rasterio.plot\n",
    "import statistics\n",
    "import pyproj\n",
    "import numpy as np\n",
    "import matplotlib.pyplot as plt\n",
    "from haversine import haversine, Unit\n",
    "from scipy.interpolate import interp1d\n",
    "\n",
    "DATA_DIRECTORY = os.getcwd()\n",
    "S3_BUCKET = 'article-data'\n",
    "S3_FOLDER = 'around-the-world'"
   ]
  },
  {
   "cell_type": "markdown",
   "metadata": {},
   "source": [
    "# Read Data"
   ]
  },
  {
   "cell_type": "code",
   "execution_count": 2,
   "metadata": {},
   "outputs": [
    {
     "data": {
      "text/plain": [
       "{'driver': 'GTiff', 'dtype': 'int16', 'nodata': None, 'width': 21601, 'height': 10801, 'count': 1, 'crs': None, 'transform': Affine(0.016666666666666666, 0.0, -180.00833333333333,\n",
       "       0.0, -0.016666666666666663, 90.00833333333334), 'tiled': False, 'interleave': 'band'}"
      ]
     },
     "execution_count": 2,
     "metadata": {},
     "output_type": "execute_result"
    }
   ],
   "source": [
    "filepath = os.path.join(DATA_DIRECTORY, 'ETOPO1_Ice_g_geotiff.tif')\n",
    "raster = rasterio.open(filepath)\n",
    "raster_height = raster.read(1)\n",
    "raster.profile"
   ]
  },
  {
   "cell_type": "markdown",
   "metadata": {},
   "source": [
    "# Examine Min/Max Data"
   ]
  },
  {
   "cell_type": "code",
   "execution_count": 3,
   "metadata": {},
   "outputs": [
    {
     "name": "stdout",
     "output_type": "stream",
     "text": [
      "Max Height:  8271\n",
      "Lat Index:  16016\n",
      "Lon Index:  3721\n",
      "Lat:  27.98333333333335\n",
      "Lon:  86.93333333333334\n"
     ]
    }
   ],
   "source": [
    "max_height = np.amax(raster_height)\n",
    "max_height_indices = np.where(raster_height == max_height)\n",
    "max_height_lat_lon = raster.xy(max_height_indices[0][0], max_height_indices[1][0])\n",
    "\n",
    "print(\"Max Height: \", max_height)\n",
    "\n",
    "print(\"Lat Index: \", max_height_indices[1][0])\n",
    "print(\"Lon Index: \", max_height_indices[0][0])\n",
    "\n",
    "print(\"Lat: \", max_height_lat_lon[1])\n",
    "print(\"Lon: \", max_height_lat_lon[0])"
   ]
  },
  {
   "cell_type": "code",
   "execution_count": 4,
   "metadata": {},
   "outputs": [
    {
     "name": "stdout",
     "output_type": "stream",
     "text": [
      "Min Height:  -10898\n",
      "Lat Index:  19331\n",
      "Lon Index:  4719\n",
      "Lat:  11.350000000000023\n",
      "Lon:  142.18333333333334\n"
     ]
    }
   ],
   "source": [
    "min_height = np.amin(raster_height)\n",
    "min_height_indices = np.where(raster_height == min_height)\n",
    "min_height_lat_lon = raster.xy(min_height_indices[0][0], min_height_indices[1][0])\n",
    "\n",
    "print(\"Min Height: \", min_height)\n",
    "\n",
    "print(\"Lat Index: \", min_height_indices[1][0])\n",
    "print(\"Lon Index: \", min_height_indices[0][0])\n",
    "\n",
    "print(\"Lat: \", min_height_lat_lon[1])\n",
    "print(\"Lon: \", min_height_lat_lon[0])"
   ]
  },
  {
   "cell_type": "markdown",
   "metadata": {},
   "source": [
    "# Plot Data"
   ]
  },
  {
   "cell_type": "code",
   "execution_count": 5,
   "metadata": {},
   "outputs": [],
   "source": [
    "def get_distances(index, raster, raster_height, previous_distance=0, previous_height=0, reverse=False):\n",
    "    base = 1.8532513372265385 #km or 0.166666666666 degrees\n",
    "    distances = []\n",
    "    is_first = True\n",
    "    indices = list(reversed(range(raster.height))) if reverse else range(raster.height)\n",
    "    for i in indices:\n",
    "        if is_first:\n",
    "            adjustment = 0\n",
    "            if reverse:\n",
    "                prev_height = previous_height\n",
    "                current_height = raster_height[i, index]\n",
    "                adjustment = math.sqrt(base**2 + (prev_height-current_height)**2)\n",
    "            distances.append(previous_distance + adjustment)\n",
    "            is_first = False\n",
    "        else:\n",
    "            prev_distance = distances[indices[0] - i - 1] if reverse else distances[i - 1]\n",
    "            prev_height = raster_height[i - 1, index]\n",
    "            current_height = raster_height[i, index]\n",
    "            \n",
    "            distance = math.sqrt(base**2 + (prev_height-current_height)**2)\n",
    "            distances.append(distance + prev_distance)\n",
    "    return distances\n",
    "\n",
    "def get_antipode_longitude(longitude):\n",
    "    antipode_longitude = 180 - abs(longitude)\n",
    "    if longitude > 0:\n",
    "        antipode_longitude = -1 * antipode_longitude\n",
    "    return antipode_longitude\n",
    "\n",
    "\n",
    "def get_elevation_path(latitude, longitude, raster, raster_height, s3_client=None, should_plot=False, output_file=False):\n",
    "    antipode_longitude = get_antipode_longitude(longitude)\n",
    "    negative_longitude = antipode_longitude if longitude >= 0 else longitude\n",
    "    positive_longitude = longitude if longitude >= 0 else antipode_longitude\n",
    "    \n",
    "    # Get the first part of the path (negative longitude)\n",
    "    raster_index = raster.index(negative_longitude, latitude)\n",
    "    lon_index = raster_index[1]\n",
    "    distances = get_distances(lon_index, raster, raster_height)\n",
    "    heights = [raster_height[i, lon_index] for i in range(raster.height)]\n",
    "    \n",
    "    # Get the other half of the path (positive longitude)\n",
    "    inv_raster_index = raster.index(positive_longitude, -latitude)\n",
    "    inv_lon_index = inv_raster_index[1]\n",
    "    inv_distances = get_distances(inv_lon_index, raster, raster_height, previous_distance=distances[-1], previous_height=heights[-1], reverse=True)\n",
    "    inv_heights = [raster_height[i, inv_lon_index] for i in range(raster.height)][::-1]\n",
    "    \n",
    "    # Combine the two paths\n",
    "    combined_distances = distances + inv_distances\n",
    "    combined_heights = heights + inv_heights\n",
    "    \n",
    "    \n",
    "    if output_file:\n",
    "        output_json = {\n",
    "            \"distance\": [round(i) for i in combined_distances],\n",
    "            \"elevation\": [int(i) for i in combined_heights],\n",
    "        }\n",
    "        output_filename = \"{0}.json\".format(lon_index)\n",
    "        if s3_client is not None:\n",
    "            print(\"Outputting file to s3 for index: {0}\".format(lon_index))\n",
    "            client.put_object(\n",
    "                Body=bytes(json.dumps(output_json).encode('UTF-8')),\n",
    "                Bucket=S3_BUCKET,\n",
    "                Key='{0}/{1}'.format(S3_FOLDER, output_filename)\n",
    "            )\n",
    "        else:\n",
    "            with open(output_filename, \"w\") as f:\n",
    "                json.dump(output_json, f)\n",
    "\n",
    "            \n",
    "    if should_plot:\n",
    "        lat_index = raster_index[0]\n",
    "        inv_lat_index = inv_raster_index[0]\n",
    "        reverse_lat_index = len(combined_heights) - lat_index - 1\n",
    "        point_index = reverse_lat_index if longitude >= 0 else lat_index\n",
    "        \n",
    "        axes = plt.gca()\n",
    "        # Mariana Trench is 11K+ meters deep!\n",
    "        axes.set_ylim([-11000,11000])\n",
    "        plt.plot(combined_heights)\n",
    "        plt.plot(\n",
    "#             [combined_distances[point_index]],\n",
    "            point_index,\n",
    "            [combined_heights[point_index]],\n",
    "            marker='o',\n",
    "            markersize=10,\n",
    "            color=\"red\"\n",
    "        )\n",
    "        \n",
    "        latitudes = [raster.xy(i, lon_index)[1] for i in range(raster.height)]\n",
    "        inv_latitudes = [raster.xy(i, inv_lon_index)[1] for i in range(raster.height)][::-1]\n",
    "        combined_latitudes = latitudes + inv_latitudes\n",
    "        \n",
    "        return combined_distances, combined_latitudes, combined_heights, point_index\n",
    "    \n",
    "    \n",
    "    return combined_distances, None, combined_heights, None"
   ]
  },
  {
   "cell_type": "code",
   "execution_count": null,
   "metadata": {},
   "outputs": [],
   "source": [
    "# Mt. Everest\n",
    "lat = max_height_lat_lon[1]\n",
    "lon = max_height_lat_lon[0]\n",
    "d, l, h, i = get_elevation_path(lat, lon, raster, raster_height, should_plot=True)"
   ]
  },
  {
   "cell_type": "code",
   "execution_count": null,
   "metadata": {},
   "outputs": [],
   "source": [
    "# Mariana Trench\n",
    "lat = min_height_lat_lon[1]\n",
    "lon = min_height_lat_lon[0]\n",
    "d, l, h, i = get_elevation_path(lat, lon, raster, raster_height, should_plot=True)"
   ]
  },
  {
   "cell_type": "code",
   "execution_count": null,
   "metadata": {},
   "outputs": [],
   "source": [
    "# Mayagüez\n",
    "lat = 18.204498\n",
    "lon = -67.126673\n",
    "d, l, h, i = get_elevation_path(lat, lon, raster, raster_height, should_plot=True)"
   ]
  },
  {
   "cell_type": "code",
   "execution_count": null,
   "metadata": {},
   "outputs": [],
   "source": [
    "# Mayagüez's antipode\n",
    "lat = 18.204498\n",
    "lon = 112.873327\n",
    "d, l, h, i = get_elevation_path(lat, lon, raster, raster_height, should_plot=True)"
   ]
  },
  {
   "cell_type": "markdown",
   "metadata": {},
   "source": [
    "# Interpolation Example"
   ]
  },
  {
   "cell_type": "code",
   "execution_count": null,
   "metadata": {},
   "outputs": [],
   "source": [
    "num_new_points = 10000\n",
    "inew = round(i * num_new_points / (len(h)-1))\n",
    "xnew = np.linspace(0, len(h)-1, num=num_new_points)\n",
    "f = interp1d(list(range(len(h))), h)\n",
    "ynew = f(xnew)\n",
    "plt.plot(ynew)\n",
    "plt.plot(\n",
    "    inew,\n",
    "    [ynew[inew]],\n",
    "    marker='o',\n",
    "    markersize=10,\n",
    "    color=\"red\"\n",
    ")\n",
    "plt.show()"
   ]
  },
  {
   "cell_type": "markdown",
   "metadata": {},
   "source": [
    "# Output Files"
   ]
  },
  {
   "cell_type": "code",
   "execution_count": null,
   "metadata": {},
   "outputs": [],
   "source": [
    "session = boto3.Session(\n",
    "    aws_access_key_id=os.environ['AWS_ACCESS_KEY'],\n",
    "    aws_secret_access_key=os.environ['AWS_SECRET_KEY'],\n",
    ")\n",
    "client = session.client('s3')"
   ]
  },
  {
   "cell_type": "code",
   "execution_count": null,
   "metadata": {},
   "outputs": [],
   "source": [
    "index = 0\n",
    "while index <= 10801:\n",
    "    longitude_increment = 0.016666666666666666\n",
    "    longitude = -180 + longitude_increment * index\n",
    "    d, l, h, i = get_elevation_path(0, longitude, raster, raster_height, s3_client=client, output_file=True)\n",
    "    index += 1"
   ]
  },
  {
   "cell_type": "markdown",
   "metadata": {},
   "source": [
    "# Ridgeline Latitudes"
   ]
  },
  {
   "cell_type": "code",
   "execution_count": 6,
   "metadata": {},
   "outputs": [],
   "source": [
    "def interpolate_list(lst, n = 500):\n",
    "    xnew = np.linspace(0, len(lst)-1, num=n)\n",
    "    f = interp1d(list(range(len(lst))), lst, kind='previous')\n",
    "    ynew = f(xnew)\n",
    "    return ynew"
   ]
  },
  {
   "cell_type": "code",
   "execution_count": 7,
   "metadata": {},
   "outputs": [
    {
     "name": "stdout",
     "output_type": "stream",
     "text": [
      "     Actual   Smooth\n",
      "Max   8271    5753.0\n",
      "Min  -8642   -7137.0\n"
     ]
    }
   ],
   "source": [
    "index = 3721 # 3721 4719\n",
    "test_array = interpolate_list(raster_height[index], n=100)\n",
    "print(\"    \", \"Actual\", \" \", \"Smooth\")\n",
    "print(\"Max \", \"\", max(raster_height[index]), \"  \", max(test_array))\n",
    "print(\"Min \", min(raster_height[index]), \" \", min(test_array))"
   ]
  },
  {
   "cell_type": "code",
   "execution_count": 8,
   "metadata": {},
   "outputs": [
    {
     "data": {
      "image/png": "[encoded data removed]",
      "text/plain": [
       "<Figure size 2160x72 with 1 Axes>"
      ]
     },
     "metadata": {
      "needs_background": "light"
     },
     "output_type": "display_data"
    }
   ],
   "source": [
    "plt.figure(figsize=(30,1))\n",
    "plt.plot(test_array)\n",
    "plt.show()"
   ]
  },
  {
   "cell_type": "code",
   "execution_count": 30,
   "metadata": {},
   "outputs": [],
   "source": [
    "def interpolate_latitude_chunks(raster_height, num_slices=180, num_points=500):\n",
    "    num_rows = len(raster_height)\n",
    "    slice_length = math.floor(num_rows / num_slices)\n",
    "    all_salient_heights = []\n",
    "    \n",
    "    interpolated_heights = {\n",
    "        \"pos\": {},\n",
    "        \"neg\": {}\n",
    "    }\n",
    "    \n",
    "    for i in range(num_slices):\n",
    "        interpolated_heights[\"pos\"][str(i)] = {}\n",
    "        interpolated_heights[\"neg\"][str(i)] = {}\n",
    "\n",
    "        \n",
    "        start_index = i * slice_length\n",
    "        end_index = (i + 1) * slice_length\n",
    "        current_height = raster_height[start_index:end_index]\n",
    "        interpolated_height = np.array([interpolate_list(row, n=num_points) for row in current_height])\n",
    "        \n",
    "        salient_height = []\n",
    "        \n",
    "        is_same_sign = True\n",
    "        segment_heights = []\n",
    "        start_idx = 0\n",
    "        end_idx = 0\n",
    "        for j in range(num_points):\n",
    "            col_heights = interpolated_height[:,j]\n",
    "            col_median = statistics.median(col_heights)\n",
    "            col_value = max(col_heights) if col_median > 0 else min(col_heights)\n",
    "            \n",
    "            # Determine previous value\n",
    "            if j == 0:\n",
    "                prev_value = col_value\n",
    "            else:\n",
    "                prev_value = salient_height[j - 1]\n",
    "            \n",
    "            # Determine whether the elevation sign has switched\n",
    "            # (+)(+) = (+), (-)(-) = (+), (-)(+) = (-), (+)(-) = (-)\n",
    "            is_same_sign = (col_value * prev_value) > 0 or (prev_value >= 0 and col_value == 0) or (prev_value == 0 and col_value >= 0)\n",
    "                        \n",
    "            if ((is_same_sign and j == (num_points - 1)) or not is_same_sign):\n",
    "                # Add a sea level elevation marker at a half-index\n",
    "                if j == (num_points - 1):\n",
    "                    segment_heights.append(col_value)\n",
    "                    end_idx = j\n",
    "                    start_idx = start_idx\n",
    "                else:\n",
    "                    segment_heights.append(0)\n",
    "                    end_idx = j + 0.5\n",
    "                    start_idx = start_idx + 0.5 if start_idx is not 0 else start_idx\n",
    "                \n",
    "                if prev_value >= 0:\n",
    "                    interpolated_heights[\"pos\"][str(i)][\"{0}:{1}\".format(start_idx, end_idx)] = segment_heights\n",
    "                else:\n",
    "                    interpolated_heights[\"neg\"][str(i)][\"{0}:{1}\".format(start_idx, end_idx)] = segment_heights\n",
    "                # Reset segment\n",
    "                segment_heights = [0, col_value]\n",
    "                start_idx = j\n",
    "            elif is_same_sign:\n",
    "                segment_heights.append(col_value)\n",
    "            \n",
    "            salient_height.append(col_value)\n",
    "            \n",
    "        all_salient_heights.append(salient_height)\n",
    "    \n",
    "    all_salient_heights = np.array(all_salient_heights)\n",
    "    output_filepath = os.path.join(DATA_DIRECTORY, \"ridgeline_matrix_{0}.csv\".format(num_points))\n",
    "    np.savetxt(output_filepath, all_salient_heights, delimiter=\",\", fmt='%i')\n",
    "    \n",
    "    output_json_filepath = os.path.join(DATA_DIRECTORY, 'ridgeline_{0}.json'.format(num_points))\n",
    "    with open(output_json_filepath, 'w') as fp:\n",
    "        json.dump(interpolated_heights, fp)\n",
    "    \n",
    "    return all_salient_heights, interpolated_heights"
   ]
  },
  {
   "cell_type": "code",
   "execution_count": 10,
   "metadata": {},
   "outputs": [],
   "source": [
    "ridgeline_matrix, ridgeline_dict = interpolate_latitude_chunks(raster_height, num_slices=60, num_points=200)"
   ]
  },
  {
   "cell_type": "code",
   "execution_count": null,
   "metadata": {},
   "outputs": [],
   "source": [
    "ridge_max = np.amax(ridgeline_matrix)\n",
    "ridge_max_index = np.where(ridgeline_matrix == ridge_max)\n",
    "\n",
    "ridge_min = np.amin(ridgeline_matrix)\n",
    "ridge_min_index = np.where(ridgeline_matrix == ridge_min)\n",
    "\n",
    "print(ridge_max, ridge_min)"
   ]
  },
  {
   "cell_type": "code",
   "execution_count": null,
   "metadata": {},
   "outputs": [],
   "source": [
    "# Inefficiently outputting different line densities\n",
    "ridgeline_matrix, ridgeline_dict = interpolate_latitude_chunks(raster_height, num_slices=180, num_points=100)\n",
    "ridgeline_matrix, ridgeline_dict = interpolate_latitude_chunks(raster_height, num_slices=180, num_points=250)\n",
    "ridgeline_matrix, ridgeline_dict = interpolate_latitude_chunks(raster_height, num_slices=500, num_points=500)\n",
    "ridgeline_matrix, ridgeline_dict = interpolate_latitude_chunks(raster_height, num_slices=180, num_points=1000)"
   ]
  },
  {
   "cell_type": "code",
   "execution_count": null,
   "metadata": {},
   "outputs": [],
   "source": [
    "ridgeline_matrix, ridgeline_dict = interpolate_latitude_chunks(raster_height, num_slices=360, num_points=5000)"
   ]
  },
  {
   "cell_type": "code",
   "execution_count": null,
   "metadata": {},
   "outputs": [],
   "source": [
    "ridgeline_matrix, ridgeline_dict = interpolate_latitude_chunks(raster_height, num_slices=360, num_points=500)"
   ]
  },
  {
   "cell_type": "code",
   "execution_count": null,
   "metadata": {},
   "outputs": [],
   "source": [
    "ridgeline_matrix, ridgeline_dict = interpolate_latitude_chunks(raster_height, num_slices=60, num_points=1000)"
   ]
  },
  {
   "cell_type": "code",
   "execution_count": null,
   "metadata": {},
   "outputs": [],
   "source": [
    "ridgeline_matrix, ridgeline_dict = interpolate_latitude_chunks(raster_height, num_slices=350, num_points=500)"
   ]
  },
  {
   "cell_type": "code",
   "execution_count": 31,
   "metadata": {},
   "outputs": [],
   "source": [
    "ridgeline_matrix, ridgeline_dict = interpolate_latitude_chunks(raster_height, num_slices=300, num_points=500)"
   ]
  },
  {
   "cell_type": "code",
   "execution_count": 32,
   "metadata": {},
   "outputs": [],
   "source": [
    "ridgeline_matrix, ridgeline_dict = interpolate_latitude_chunks(raster_height, num_slices=180, num_points=250)"
   ]
  },
  {
   "cell_type": "code",
   "execution_count": null,
   "metadata": {},
   "outputs": [],
   "source": []
  }
 ],
 "metadata": {
  "kernelspec": {
   "display_name": "Python 3",
   "language": "python",
   "name": "python3"
  },
  "language_info": {
   "codemirror_mode": {
    "name": "ipython",
    "version": 3
   },
   "file_extension": ".py",
   "mimetype": "text/x-python",
   "name": "python",
   "nbconvert_exporter": "python",
   "pygments_lexer": "ipython3",
   "version": "3.7.7"
  }
 },
 "nbformat": 4,
 "nbformat_minor": 4
}
