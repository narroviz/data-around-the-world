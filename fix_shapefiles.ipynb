{
 "cells": [
  {
   "cell_type": "code",
   "execution_count": 2,
   "metadata": {},
   "outputs": [],
   "source": [
    "import os\n",
    "import fiona                                                                                                       \n",
    "from shapely.geometry import shape, mapping, Polygon, MultiPolygon\n",
    "\n",
    "DATA_DIRECTORY = os.getcwd()\n",
    "# src = os.path.join(DATA_DIRECTORY, \"data/geojson/indigenousTerritories.json\")\n",
    "src = os.path.join(DATA_DIRECTORY, \"data/shapefiles/World_Seas_IHO_v1/World_Seas.shp\")\n",
    "\n",
    "\n",
    "def centroid(data):\n",
    "    x, y = zip(*data)\n",
    "    l = len(x)\n",
    "    return sum(x) / l, sum(y) / l"
   ]
  },
  {
   "cell_type": "code",
   "execution_count": 6,
   "metadata": {},
   "outputs": [
    {
     "name": "stdout",
     "output_type": "stream",
     "text": [
      "Kattegat\n",
      "Baffin Bay\n",
      "Baltic Sea\n",
      "Ceram Sea\n",
      "Banda Sea\n",
      "Java Sea\n"
     ]
    }
   ],
   "source": [
    "with fiona.open(src, 'r') as ds_in:                                                                                                                                                                                                                   \n",
    "    crs = ds_in.crs \n",
    "    drv = ds_in.driver \n",
    "    \n",
    "    num_invalid = 0\n",
    "    fixed_features = []\n",
    "    for feature in ds_in:\n",
    "        if not shape(feature['geometry']).is_valid:\n",
    "            print(feature['properties']['NAME'])\n",
    "#             for coords in feature['geometry']['coordinates']:\n",
    "#                 print(centroid(coords))\n",
    "            num_invalid += 1\n",
    "#             # Failed attempt at fixing geometries\n",
    "#             print(feature)\n",
    "#             coords = feature['geometry']['coordinates']\n",
    "#             feature['geometry']['coordinates'] = Polygon(coords).buffer(0)\n",
    "        fixed_features.append(shape)"
   ]
  },
  {
   "cell_type": "code",
   "execution_count": null,
   "metadata": {},
   "outputs": [],
   "source": []
  }
 ],
 "metadata": {
  "kernelspec": {
   "display_name": "Python 3",
   "language": "python",
   "name": "python3"
  },
  "language_info": {
   "codemirror_mode": {
    "name": "ipython",
    "version": 3
   },
   "file_extension": ".py",
   "mimetype": "text/x-python",
   "name": "python",
   "nbconvert_exporter": "python",
   "pygments_lexer": "ipython3",
   "version": "3.7.7"
  }
 },
 "nbformat": 4,
 "nbformat_minor": 4
}
