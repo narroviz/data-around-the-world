{
 "cells": [
  {
   "cell_type": "code",
   "execution_count": 3,
   "metadata": {},
   "outputs": [],
   "source": [
    "import os\n",
    "import json\n",
    "from PIL import Image\n",
    "from collections import defaultdict\n",
    "\n",
    "DATA_DIRECTORY = os.getcwd()\n",
    "JSON_DIRECTORY = os.path.join(DATA_DIRECTORY, \"data/json\")"
   ]
  },
  {
   "cell_type": "code",
   "execution_count": 5,
   "metadata": {},
   "outputs": [],
   "source": [
    "json_filenames = os.listdir(JSON_DIRECTORY)"
   ]
  },
  {
   "cell_type": "code",
   "execution_count": 50,
   "metadata": {},
   "outputs": [],
   "source": [
    "def get_ocean_and_land_extremes():\n",
    "    highest_ocean_pct = 0\n",
    "    highest_ocean_idx = 0\n",
    "    \n",
    "    most_countries = 0\n",
    "    most_countries_idx = 0\n",
    "    \n",
    "    least_countries = 1000\n",
    "    least_countries_idx = 0\n",
    "    \n",
    "    highest_land_pct = 0\n",
    "    highest_land_idx = 0\n",
    "    json_filenames = []\n",
    "    json_indexes = [1340, 1341, 1342, 1343, 1344, 1345, 1346, 1347, 1348, 1349, 1350, 1351]\n",
    "    for f in json_indexes: \n",
    "        json_filenames.append(\"{0}.json\".format(f))\n",
    "    print(json_filenames)\n",
    "    for index, filename in enumerate(json_filenames):\n",
    "        if '.json' not in filename:\n",
    "            continue\n",
    "        if index % 100 == 0:\n",
    "            print('Analyzing file {0}'.format(index))\n",
    "        \n",
    "        ocean_indices = 0\n",
    "        land_indices = 0\n",
    "        f = open(os.path.join(JSON_DIRECTORY, filename)) \n",
    "\n",
    "        # returns JSON object as  \n",
    "        # a dictionary \n",
    "        data = json.load(f) \n",
    "\n",
    "        # Iterating through the json \n",
    "        # list \n",
    "        for j in data['elevation']: \n",
    "            if (j < 0):\n",
    "                ocean_indices += 1\n",
    "            else:\n",
    "                land_indices += 1\n",
    "\n",
    "        num_indices = len(data['elevation'])\n",
    "        file_idx = filename.split(\".\")[0]\n",
    "        ocean_pct = float(ocean_indices) / float(num_indices)\n",
    "        land_pct = float(land_indices) / float(num_indices)\n",
    "        \n",
    "        countries = set()\n",
    "        for country in data['countries']:\n",
    "            if 'territory' in country:\n",
    "                territory = country['territory']\n",
    "            else:\n",
    "                territory = country['country']\n",
    "            \n",
    "            # exclude Antarctica\n",
    "            if territory != 'ATA':\n",
    "                countries.add(territory)\n",
    "        \n",
    "        num_countries = len(countries)\n",
    "        if num_countries > 30:\n",
    "            print(file_idx)\n",
    "            print(num_countries)\n",
    "        if num_countries > most_countries:\n",
    "            most_countries = num_countries\n",
    "            most_countries_idx = file_idx\n",
    "            \n",
    "        if num_countries < least_countries:\n",
    "            least_countries = num_countries\n",
    "            least_countries_idx = file_idx\n",
    "        \n",
    "        if ocean_pct > highest_ocean_pct:\n",
    "            highest_ocean_pct = ocean_pct\n",
    "            highest_ocean_idx = file_idx\n",
    "\n",
    "        if land_pct > highest_land_pct:\n",
    "            highest_land_pct = land_pct\n",
    "            highest_land_idx = file_idx\n",
    "        # Closing file \n",
    "        f.close() \n",
    "\n",
    "    result = {\n",
    "        \"highest_ocean_pct\": highest_ocean_pct,\n",
    "        \"highest_ocean_idx\": highest_ocean_idx,\n",
    "        \"highest_land_pct\": highest_land_pct,\n",
    "        \"highest_land_idx\": highest_land_idx,\n",
    "        \"most_countries\": most_countries,\n",
    "        \"most_countries_idx\": most_countries_idx,\n",
    "        \"least_countries\": least_countries,\n",
    "        \"least_countries_idx\": least_countries_idx\n",
    "        \n",
    "    }\n",
    "    return result\n"
   ]
  },
  {
   "cell_type": "code",
   "execution_count": 51,
   "metadata": {
    "scrolled": true
   },
   "outputs": [
    {
     "name": "stdout",
     "output_type": "stream",
     "text": [
      "['1340.json', '1341.json', '1342.json', '1343.json', '1344.json', '1345.json', '1346.json', '1347.json', '1348.json', '1349.json', '1350.json', '1351.json']\n",
      "Analyzing file 0\n",
      "1340\n",
      "31\n",
      "1341\n",
      "31\n",
      "1342\n",
      "31\n",
      "1343\n",
      "31\n",
      "1344\n",
      "31\n",
      "1345\n",
      "31\n",
      "1346\n",
      "31\n",
      "1347\n",
      "31\n",
      "1348\n",
      "31\n",
      "1349\n",
      "31\n",
      "1350\n",
      "31\n",
      "1351\n",
      "31\n"
     ]
    },
    {
     "data": {
      "text/plain": [
       "{'highest_ocean_pct': 0.6015183779279696,\n",
       " 'highest_ocean_idx': '1340',\n",
       " 'highest_land_pct': 0.4029256550319415,\n",
       " 'highest_land_idx': '1350',\n",
       " 'most_countries': 31,\n",
       " 'most_countries_idx': '1340',\n",
       " 'least_countries': 31,\n",
       " 'least_countries_idx': '1340'}"
      ]
     },
     "execution_count": 51,
     "metadata": {},
     "output_type": "execute_result"
    }
   ],
   "source": [
    "get_ocean_and_land_extremes()"
   ]
  },
  {
   "cell_type": "code",
   "execution_count": null,
   "metadata": {},
   "outputs": [],
   "source": []
  }
 ],
 "metadata": {
  "kernelspec": {
   "display_name": "Python 3",
   "language": "python",
   "name": "python3"
  },
  "language_info": {
   "codemirror_mode": {
    "name": "ipython",
    "version": 3
   },
   "file_extension": ".py",
   "mimetype": "text/x-python",
   "name": "python",
   "nbconvert_exporter": "python",
   "pygments_lexer": "ipython3",
   "version": "3.7.7"
  }
 },
 "nbformat": 4,
 "nbformat_minor": 4
}
